{
 "cells": [
  {
   "cell_type": "markdown",
   "id": "1d80f6cb",
   "metadata": {},
   "source": [
    "C# : PROBLEM SET 1 "
   ]
  },
  {
   "cell_type": "markdown",
   "id": "ec2a29c6",
   "metadata": {},
   "source": [
    "Q1 : Find Data Type ."
   ]
  },
  {
   "cell_type": "code",
   "execution_count": 22,
   "id": "afa9c115",
   "metadata": {},
   "outputs": [
    {
     "name": "stdout",
     "output_type": "stream",
     "text": [
      "System.Int32\r\n"
     ]
    }
   ],
   "source": [
    "dynamic x=5;\n",
    "Console.WriteLine(x.GetType());"
   ]
  },
  {
   "cell_type": "code",
   "execution_count": 23,
   "id": "fd4031ab",
   "metadata": {},
   "outputs": [
    {
     "name": "stdout",
     "output_type": "stream",
     "text": [
      "System.Double\r\n"
     ]
    }
   ],
   "source": [
    "dynamic y=5.0;\n",
    "Console.WriteLine(y.GetType());"
   ]
  },
  {
   "cell_type": "code",
   "execution_count": 24,
   "id": "aaa5d1fb",
   "metadata": {},
   "outputs": [
    {
     "name": "stdout",
     "output_type": "stream",
     "text": [
      "System.Boolean\r\n"
     ]
    }
   ],
   "source": [
    "dynamic z= 5>1;\n",
    "Console.WriteLine(z.GetType());"
   ]
  },
  {
   "cell_type": "code",
   "execution_count": 25,
   "id": "80e7ad5b",
   "metadata": {},
   "outputs": [
    {
     "name": "stdout",
     "output_type": "stream",
     "text": [
      "System.Char\r\n"
     ]
    }
   ],
   "source": [
    "dynamic a= '5';\n",
    "Console.WriteLine(a.GetType());"
   ]
  },
  {
   "cell_type": "code",
   "execution_count": 29,
   "id": "755ca92a",
   "metadata": {},
   "outputs": [
    {
     "name": "stdout",
     "output_type": "stream",
     "text": [
      "System.Int32\r\n"
     ]
    }
   ],
   "source": [
    "dynamic b=5*2;\n",
    "Console.WriteLine(b.GetType());"
   ]
  },
  {
   "cell_type": "code",
   "execution_count": 28,
   "id": "951a77e2",
   "metadata": {},
   "outputs": [
    {
     "name": "stdout",
     "output_type": "stream",
     "text": [
      "System.Int32\r\n"
     ]
    }
   ],
   "source": [
    "dynamic c ='5' * 2;\n",
    "Console.WriteLine(c.GetType());"
   ]
  },
  {
   "cell_type": "code",
   "execution_count": 89,
   "id": "b75c4094",
   "metadata": {},
   "outputs": [
    {
     "name": "stdout",
     "output_type": "stream",
     "text": [
      "System.Int32\r\n"
     ]
    }
   ],
   "source": [
    "dynamic d ='5' * '2';\n",
    "Console.WriteLine(d.GetType());"
   ]
  },
  {
   "cell_type": "code",
   "execution_count": 87,
   "id": "8b91c846",
   "metadata": {},
   "outputs": [
    {
     "name": "stdout",
     "output_type": "stream",
     "text": [
      "System.Int32\r\n"
     ]
    }
   ],
   "source": [
    "dynamic d =5/2;\n",
    "Console.WriteLine(d.GetType());"
   ]
  },
  {
   "cell_type": "code",
   "execution_count": 33,
   "id": "d654ee26",
   "metadata": {},
   "outputs": [
    {
     "name": "stdout",
     "output_type": "stream",
     "text": [
      "System.Int32\r\n"
     ]
    }
   ],
   "source": [
    "dynamic d =5%2;\n",
    "Console.WriteLine(d.GetType());"
   ]
  },
  {
   "cell_type": "code",
   "execution_count": 84,
   "id": "bfeccff0",
   "metadata": {},
   "outputs": [
    {
     "name": "stdout",
     "output_type": "stream",
     "text": [
      "System.Int32[]\r\n"
     ]
    }
   ],
   "source": [
    "int[] d ={5,2,1};\n",
    "Console.WriteLine(d.GetType());"
   ]
  },
  {
   "cell_type": "code",
   "execution_count": 51,
   "id": "af540a35",
   "metadata": {},
   "outputs": [
    {
     "name": "stdout",
     "output_type": "stream",
     "text": [
      "System.Boolean\r\n"
     ]
    }
   ],
   "source": [
    "dynamic d = 5==3;\n",
    "Console.WriteLine(d.GetType());"
   ]
  },
  {
   "cell_type": "code",
   "execution_count": 54,
   "id": "1df57569",
   "metadata": {},
   "outputs": [
    {
     "name": "stdout",
     "output_type": "stream",
     "text": [
      "System.Double\r\n"
     ]
    }
   ],
   "source": [
    "a=3.14;\n",
    "Console.WriteLine(a.GetType());"
   ]
  },
  {
   "cell_type": "markdown",
   "id": "e160ee11",
   "metadata": {},
   "source": [
    "Q2: c#"
   ]
  },
  {
   "cell_type": "code",
   "execution_count": 58,
   "id": "f48e9bd5",
   "metadata": {},
   "outputs": [
    {
     "name": "stdout",
     "output_type": "stream",
     "text": [
      "Number of letters in string: 34\r\n"
     ]
    }
   ],
   "source": [
    "string text =\"Supercalifragilisticexpialidocious\" ;\n",
    "Console.WriteLine(\"Number of letters in string: \" +text.Length);"
   ]
  },
  {
   "cell_type": "code",
   "execution_count": 76,
   "id": "1d903e85",
   "metadata": {},
   "outputs": [
    {
     "name": "stdout",
     "output_type": "stream",
     "text": [
      "Is there substring ice in the text? : True\r\n"
     ]
    }
   ],
   "source": [
    "string text =\"Supercalifragilisticexpialidocious\" ;\n",
    "string sub =\"ice\";\n",
    "bool a  = text.Contains(sub);\n",
    "Console.WriteLine(\"Is there substring ice in the text? : \" +a);"
   ]
  },
  {
   "cell_type": "code",
   "execution_count": 94,
   "id": "e74b7844",
   "metadata": {},
   "outputs": [
    {
     "name": "stdout",
     "output_type": "stream",
     "text": [
      "Longest String: Bababadalgharaghtakamminarronnkonn\r\n"
     ]
    }
   ],
   "source": [
    "string s1 =\"Supercalifragilisticexpialidocious\" ;\n",
    "string s2 =\"Honorificabilitudinitatibus\" ;\n",
    "string s3 = \"Bababadalgharaghtakamminarronnkonn\" ;\n",
    "if ( s1.Length> s2.Length && s1.Length>s3.Length )\n",
    "{\n",
    "Console.WriteLine(\"Longest String: \" +s1);\n",
    "}\n",
    "else if (s2.Length> s1.Length && s2.Length>s3.Length )\n",
    "{\n",
    "Console.WriteLine(\"Longest String: \" +s2);\n",
    "}\n",
    "else\n",
    "{\n",
    "Console.WriteLine(\"Longest String: \" +s3);\n",
    "}\n"
   ]
  },
  {
   "cell_type": "code",
   "execution_count": 5,
   "id": "76ac311f",
   "metadata": {},
   "outputs": [
    {
     "name": "stdout",
     "output_type": "stream",
     "text": [
      "First in Dictionary: [Bartok, 4]\n",
      "Last in Dictionary: [Buxtehude, 6]\n"
     ]
    }
   ],
   "source": [
    "SortedDictionary<string, string> composers = new SortedDictionary<string, string>(); \n",
    "composers.Add(\"Berlioz\",\"1\");\n",
    "composers.Add(\"Borodin\",\"2\");\n",
    "composers.Add(\"Brian\",\"3\");\n",
    "composers.Add(\"Bartok\",\"4\");\n",
    "composers.Add(\"Bellini\",\"5\");\n",
    "composers.Add(\"Buxtehude\",\"6\");\n",
    "composers.Add(\"Bernstein\",\"7\");\n",
    "composers.ElementAt(0);\n",
    "composers.ElementAt(composers.Count -1);\n",
    "Console.WriteLine(\"First in Dictionary: \" +composers.ElementAt(0) );\n",
    "Console.WriteLine(\"Last in Dictionary: \" +composers.ElementAt(composers.Count -1) );"
   ]
  },
  {
   "cell_type": "markdown",
   "id": "a43cdeb0",
   "metadata": {},
   "source": [
    "Q3: Implement function triangleArea(a,b,c) that takes as input the lengths of the 3\n",
    "sides of a triangle and returns the area of the triangle.\n"
   ]
  },
  {
   "cell_type": "code",
   "execution_count": 123,
   "id": "6b389994",
   "metadata": {},
   "outputs": [
    {
     "name": "stdout",
     "output_type": "stream",
     "text": [
      "1.7320508075688772\r\n"
     ]
    }
   ],
   "source": [
    "double triangleArea(int a, int b, int c)\n",
    "{\n",
    "double s = (double)(a+b+c)/2;\n",
    "double x= (double)(s*(s - a)*(s -b)*(s -c));\n",
    "double area = Math.Sqrt(x);\n",
    "return area;\n",
    "}\n",
    "Console.WriteLine(triangleArea(2,2,2));"
   ]
  },
  {
   "cell_type": "markdown",
   "id": "d6ebf334",
   "metadata": {},
   "source": [
    "Q4 : C# Sharp to separate odd and even integers in separate arrays.\n",
    "\n",
    "    Code for the following has been written down on an Online Editor :https://www.programiz.com/csharp-programming/online-compiler/ and output as a screenshot below\n",
    "    "
   ]
  },
  {
   "cell_type": "code",
   "execution_count": null,
   "id": "6e5b9c4c",
   "metadata": {},
   "outputs": [],
   "source": [
    "using System;\n",
    " \n",
    "public class HelloWorld\n",
    "{\n",
    "    public static void Main(string[] args)\n",
    "    {\n",
    "        int[] arr = new int[100];\n",
    "        int[] even = new int[100];\n",
    "        int[] odd = new int[100];\n",
    " \n",
    "        int evenElementCount = 0;\n",
    "        int oddElementCount = 0;\n",
    "        Console.WriteLine(\"Input the number of elements to be stored in the array:\");\n",
    "        int n = Convert.ToInt32(Console.ReadLine());\n",
    "        Console.WriteLine(\"Input \" + n + \" elements in the array:\");\n",
    "        for (int i = 0; i < n; i++) {\n",
    "            Console.Write(\"element - \" + i + \" :\");\n",
    "            arr[i] = Convert.ToInt32(Console.ReadLine());\n",
    "        }\n",
    "        for (int i = 0; i < n; i++) {\n",
    "            if (arr[i]%2 == 0) {\n",
    "                even[evenElementCount] = arr[i];\n",
    "                evenElementCount ++;\n",
    "            } else {\n",
    "                odd[oddElementCount] = arr[i];\n",
    "                oddElementCount ++;\n",
    "            }\n",
    "        }\n",
    " \n",
    "        Console.WriteLine(\"The Even elements are:\");\n",
    "        for (int i = 0; i < evenElementCount; i++) {\n",
    "              Console.Write(even[i] + \" \");\n",
    "        }\n",
    " \n",
    "        Console.WriteLine(\"\\nThe Odd elements are:\");\n",
    "        for (int i = 0; i < oddElementCount; i++) {\n",
    "            Console.Write(odd[i] + \" \");\n",
    "        }\n",
    "    }\n",
    "}"
   ]
  },
  {
   "attachments": {
    "output.PNG": {
     "image/png": "[encoded data removed]"
    }
   },
   "cell_type": "markdown",
   "id": "68b0886f",
   "metadata": {},
   "source": [
    "![output.PNG](attachment:output.PNG)"
   ]
  },
  {
   "cell_type": "markdown",
   "id": "b70d8c4b",
   "metadata": {},
   "source": [
    "Q5: a function inside(x,y,x1,y1,x2,y2) that returns True or False\n",
    "depending on whether the point (x,y) lies in the rectangle with lower left\n",
    "corner (x1,y1) and upper right corner (x2,y2)."
   ]
  },
  {
   "cell_type": "markdown",
   "id": "461d9e17",
   "metadata": {},
   "source": [
    "Use function inside() from part a. to write an expression that tests whether\n",
    "the point (1,1) lies in both of the following rectangles: one with lower left\n",
    "corner (0.3, 0.5) and upper right corner (1.1, 0.7) and the other with lower\n",
    "left corner (0.5, 0.2) and upper right corner (1.1, 2).\n"
   ]
  },
  {
   "cell_type": "code",
   "execution_count": 8,
   "id": "0e410935",
   "metadata": {},
   "outputs": [
    {
     "name": "stdout",
     "output_type": "stream",
     "text": [
      "True\n",
      "False\n",
      "False\n"
     ]
    }
   ],
   "source": [
    "bool inside(double x,double y,double x1,double y1,double x2,double y2)\n",
    "{\n",
    " if(x>x1 && x<x2  && y>y1 && y<y2)\n",
    " \n",
    "  return true;\n",
    " \n",
    " else \n",
    " return false;\n",
    "}\n",
    "Console.WriteLine(inside(1,1,0,0,2,3));\n",
    "Console.WriteLine(inside(-1,-1,0,0,2,3));\n",
    "Console.WriteLine(inside(1,1,0.3,0.5,1.1,0.7) && inside(1,1,0.5,0.2,1.1,2));"
   ]
  }
 ],
 "metadata": {
  "kernelspec": {
   "display_name": ".NET (C#)",
   "language": "C#",
   "name": ".net-csharp"
  },
  "language_info": {
   "file_extension": ".cs",
   "mimetype": "text/x-csharp",
   "name": "C#",
   "pygments_lexer": "csharp",
   "version": "8.0"
  }
 },
 "nbformat": 4,
 "nbformat_minor": 5
}
